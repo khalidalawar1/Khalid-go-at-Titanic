{
 "cells": [
  {
   "cell_type": "markdown",
   "metadata": {
    "papermill": {
     "duration": 0.027885,
     "end_time": "2021-01-27T18:13:06.766619",
     "exception": false,
     "start_time": "2021-01-27T18:13:06.738734",
     "status": "completed"
    },
    "tags": []
   },
   "source": [
    "# Titanic Shipwreck: Predict Survivors\n",
    "\n",
    "> The problem is from a kaggle competition and it is simple: use machine learning to create a model that predicts which passengers survived the Titanic shipwreck. But before that, a little intro about the Titanic:\n",
    "\n",
    "> The sinking of the Titanic is one of the most infamous shipwrecks in history.\n",
    "\n",
    "> On April 15, 1912, during her maiden voyage, the widely considered “unsinkable” RMS Titanic sank after colliding with an iceberg. Unfortunately, there weren’t enough lifeboats for everyone onboard, resulting in the death of 1502 out of 2224 passengers and crew.\n",
    "\n",
    "> While there was some element of luck involved in surviving, it seems some groups of people were more likely to survive than others.\n",
    "\n",
    "> In this project, we will build a predictive model that answers the question: “what sorts of people were more likely to survive?” using passenger data (ie name, age, gender, socio-economic class, etc).\n",
    "\n"
   ]
  },
  {
   "cell_type": "code",
   "execution_count": 1,
   "metadata": {
    "_cell_guid": "b1076dfc-b9ad-4769-8c92-a6c4dae69d19",
    "_uuid": "8f2839f25d086af736a60e9eeb907d3b93b6e0e5",
    "execution": {
     "iopub.execute_input": "2021-01-27T18:13:06.827859Z",
     "iopub.status.busy": "2021-01-27T18:13:06.827090Z",
     "iopub.status.idle": "2021-01-27T18:13:06.832832Z",
     "shell.execute_reply": "2021-01-27T18:13:06.831564Z"
    },
    "papermill": {
     "duration": 0.039163,
     "end_time": "2021-01-27T18:13:06.833011",
     "exception": false,
     "start_time": "2021-01-27T18:13:06.793848",
     "status": "completed"
    },
    "tags": []
   },
   "outputs": [
    {
     "name": "stdout",
     "output_type": "stream",
     "text": [
      "/kaggle/input/titanic/train.csv\n",
      "/kaggle/input/titanic/test.csv\n",
      "/kaggle/input/titanic/gender_submission.csv\n"
     ]
    }
   ],
   "source": [
    "# This Python 3 environment comes with many helpful analytics libraries installed\n",
    "# It is defined by the kaggle/python Docker image: https://github.com/kaggle/docker-python\n",
    "# For example, here's several helpful packages to load\n",
    "\n",
    "import numpy as np # linear algebra\n",
    "import pandas as pd # data processing, CSV file I/O (e.g. pd.read_csv)\n",
    "\n",
    "# Input data files are available in the read-only \"../input/\" directory\n",
    "# For example, running this (by clicking run or pressing Shift+Enter) will list all files under the input directory\n",
    "\n",
    "import os\n",
    "for dirname, _, filenames in os.walk('/kaggle/input'):\n",
    "    for filename in filenames:\n",
    "        print(os.path.join(dirname, filename))\n",
    "\n",
    "# You can write up to 20GB to the current directory (/kaggle/working/) that gets preserved as output when you create a version using \"Save & Run All\" \n",
    "# You can also write temporary files to /kaggle/temp/, but they won't be saved outside of the current session"
   ]
  },
  {
   "cell_type": "markdown",
   "metadata": {
    "papermill": {
     "duration": 0.027827,
     "end_time": "2021-01-27T18:13:06.890136",
     "exception": false,
     "start_time": "2021-01-27T18:13:06.862309",
     "status": "completed"
    },
    "tags": []
   },
   "source": [
    "Since we look at the available data sets, let's import the training and test data sets at the beginning of our project. Utermost, will be exclusively working with the training set for analysis because we have the dependent outcome variable we are looking for available 'Survived'."
   ]
  },
  {
   "cell_type": "code",
   "execution_count": 2,
   "metadata": {
    "execution": {
     "iopub.execute_input": "2021-01-27T18:13:06.952998Z",
     "iopub.status.busy": "2021-01-27T18:13:06.952167Z",
     "iopub.status.idle": "2021-01-27T18:13:06.998477Z",
     "shell.execute_reply": "2021-01-27T18:13:06.997880Z"
    },
    "papermill": {
     "duration": 0.080911,
     "end_time": "2021-01-27T18:13:06.998600",
     "exception": false,
     "start_time": "2021-01-27T18:13:06.917689",
     "status": "completed"
    },
    "tags": []
   },
   "outputs": [
    {
     "data": {
      "text/html": [
       "<div>\n",
       "<style scoped>\n",
       "    .dataframe tbody tr th:only-of-type {\n",
       "        vertical-align: middle;\n",
       "    }\n",
       "\n",
       "    .dataframe tbody tr th {\n",
       "        vertical-align: top;\n",
       "    }\n",
       "\n",
       "    .dataframe thead th {\n",
       "        text-align: right;\n",
       "    }\n",
       "</style>\n",
       "<table border=\"1\" class=\"dataframe\">\n",
       "  <thead>\n",
       "    <tr style=\"text-align: right;\">\n",
       "      <th></th>\n",
       "      <th>PassengerId</th>\n",
       "      <th>Survived</th>\n",
       "      <th>Pclass</th>\n",
       "      <th>Name</th>\n",
       "      <th>Sex</th>\n",
       "      <th>Age</th>\n",
       "      <th>SibSp</th>\n",
       "      <th>Parch</th>\n",
       "      <th>Ticket</th>\n",
       "      <th>Fare</th>\n",
       "      <th>Cabin</th>\n",
       "      <th>Embarked</th>\n",
       "    </tr>\n",
       "  </thead>\n",
       "  <tbody>\n",
       "    <tr>\n",
       "      <th>0</th>\n",
       "      <td>1</td>\n",
       "      <td>0</td>\n",
       "      <td>3</td>\n",
       "      <td>Braund, Mr. Owen Harris</td>\n",
       "      <td>male</td>\n",
       "      <td>22.0</td>\n",
       "      <td>1</td>\n",
       "      <td>0</td>\n",
       "      <td>A/5 21171</td>\n",
       "      <td>7.2500</td>\n",
       "      <td>NaN</td>\n",
       "      <td>S</td>\n",
       "    </tr>\n",
       "    <tr>\n",
       "      <th>1</th>\n",
       "      <td>2</td>\n",
       "      <td>1</td>\n",
       "      <td>1</td>\n",
       "      <td>Cumings, Mrs. John Bradley (Florence Briggs Th...</td>\n",
       "      <td>female</td>\n",
       "      <td>38.0</td>\n",
       "      <td>1</td>\n",
       "      <td>0</td>\n",
       "      <td>PC 17599</td>\n",
       "      <td>71.2833</td>\n",
       "      <td>C85</td>\n",
       "      <td>C</td>\n",
       "    </tr>\n",
       "    <tr>\n",
       "      <th>2</th>\n",
       "      <td>3</td>\n",
       "      <td>1</td>\n",
       "      <td>3</td>\n",
       "      <td>Heikkinen, Miss. Laina</td>\n",
       "      <td>female</td>\n",
       "      <td>26.0</td>\n",
       "      <td>0</td>\n",
       "      <td>0</td>\n",
       "      <td>STON/O2. 3101282</td>\n",
       "      <td>7.9250</td>\n",
       "      <td>NaN</td>\n",
       "      <td>S</td>\n",
       "    </tr>\n",
       "    <tr>\n",
       "      <th>3</th>\n",
       "      <td>4</td>\n",
       "      <td>1</td>\n",
       "      <td>1</td>\n",
       "      <td>Futrelle, Mrs. Jacques Heath (Lily May Peel)</td>\n",
       "      <td>female</td>\n",
       "      <td>35.0</td>\n",
       "      <td>1</td>\n",
       "      <td>0</td>\n",
       "      <td>113803</td>\n",
       "      <td>53.1000</td>\n",
       "      <td>C123</td>\n",
       "      <td>S</td>\n",
       "    </tr>\n",
       "    <tr>\n",
       "      <th>4</th>\n",
       "      <td>5</td>\n",
       "      <td>0</td>\n",
       "      <td>3</td>\n",
       "      <td>Allen, Mr. William Henry</td>\n",
       "      <td>male</td>\n",
       "      <td>35.0</td>\n",
       "      <td>0</td>\n",
       "      <td>0</td>\n",
       "      <td>373450</td>\n",
       "      <td>8.0500</td>\n",
       "      <td>NaN</td>\n",
       "      <td>S</td>\n",
       "    </tr>\n",
       "  </tbody>\n",
       "</table>\n",
       "</div>"
      ],
      "text/plain": [
       "   PassengerId  Survived  Pclass  \\\n",
       "0            1         0       3   \n",
       "1            2         1       1   \n",
       "2            3         1       3   \n",
       "3            4         1       1   \n",
       "4            5         0       3   \n",
       "\n",
       "                                                Name     Sex   Age  SibSp  \\\n",
       "0                            Braund, Mr. Owen Harris    male  22.0      1   \n",
       "1  Cumings, Mrs. John Bradley (Florence Briggs Th...  female  38.0      1   \n",
       "2                             Heikkinen, Miss. Laina  female  26.0      0   \n",
       "3       Futrelle, Mrs. Jacques Heath (Lily May Peel)  female  35.0      1   \n",
       "4                           Allen, Mr. William Henry    male  35.0      0   \n",
       "\n",
       "   Parch            Ticket     Fare Cabin Embarked  \n",
       "0      0         A/5 21171   7.2500   NaN        S  \n",
       "1      0          PC 17599  71.2833   C85        C  \n",
       "2      0  STON/O2. 3101282   7.9250   NaN        S  \n",
       "3      0            113803  53.1000  C123        S  \n",
       "4      0            373450   8.0500   NaN        S  "
      ]
     },
     "execution_count": 2,
     "metadata": {},
     "output_type": "execute_result"
    }
   ],
   "source": [
    "training_data = pd.read_csv('/kaggle/input/titanic/train.csv')\n",
    "\n",
    "training_data.head() #we print the first few rows to kind off take a look at the columns and sample values"
   ]
  },
  {
   "cell_type": "markdown",
   "metadata": {
    "papermill": {
     "duration": 0.027545,
     "end_time": "2021-01-27T18:13:07.054216",
     "exception": false,
     "start_time": "2021-01-27T18:13:07.026671",
     "status": "completed"
    },
    "tags": []
   },
   "source": [
    "# Exploratory Data Analysis\n",
    "\n",
    "From the given information of the problem, the dictionary of the data set is given for the columns (we will use this as a guide for understanding the values in the data set):\n",
    "\n",
    "![Data Dictionary](https://www.dropbox.com/s/avklkg0rzlbp15p/Titanic%20Data%20Dictionary.png?dl=1)"
   ]
  },
  {
   "cell_type": "markdown",
   "metadata": {
    "papermill": {
     "duration": 0.027837,
     "end_time": "2021-01-27T18:13:07.110180",
     "exception": false,
     "start_time": "2021-01-27T18:13:07.082343",
     "status": "completed"
    },
    "tags": []
   },
   "source": [
    "After seeing the different columns and their definition, it is important to know the data types in the data frame and which features are categorical and which are numerical.\n",
    "### Which features are categorical? Which features are numerical?"
   ]
  },
  {
   "cell_type": "code",
   "execution_count": 3,
   "metadata": {
    "execution": {
     "iopub.execute_input": "2021-01-27T18:13:07.172758Z",
     "iopub.status.busy": "2021-01-27T18:13:07.172098Z",
     "iopub.status.idle": "2021-01-27T18:13:07.185127Z",
     "shell.execute_reply": "2021-01-27T18:13:07.185781Z"
    },
    "papermill": {
     "duration": 0.048026,
     "end_time": "2021-01-27T18:13:07.185922",
     "exception": false,
     "start_time": "2021-01-27T18:13:07.137896",
     "status": "completed"
    },
    "tags": []
   },
   "outputs": [
    {
     "name": "stdout",
     "output_type": "stream",
     "text": [
      "<class 'pandas.core.frame.DataFrame'>\n",
      "RangeIndex: 891 entries, 0 to 890\n",
      "Data columns (total 12 columns):\n",
      " #   Column       Non-Null Count  Dtype  \n",
      "---  ------       --------------  -----  \n",
      " 0   PassengerId  891 non-null    int64  \n",
      " 1   Survived     891 non-null    int64  \n",
      " 2   Pclass       891 non-null    int64  \n",
      " 3   Name         891 non-null    object \n",
      " 4   Sex          891 non-null    object \n",
      " 5   Age          714 non-null    float64\n",
      " 6   SibSp        891 non-null    int64  \n",
      " 7   Parch        891 non-null    int64  \n",
      " 8   Ticket       891 non-null    object \n",
      " 9   Fare         891 non-null    float64\n",
      " 10  Cabin        204 non-null    object \n",
      " 11  Embarked     889 non-null    object \n",
      "dtypes: float64(2), int64(5), object(5)\n",
      "memory usage: 83.7+ KB\n"
     ]
    }
   ],
   "source": [
    "training_data.info()"
   ]
  },
  {
   "cell_type": "markdown",
   "metadata": {
    "papermill": {
     "duration": 0.030208,
     "end_time": "2021-01-27T18:13:07.245340",
     "exception": false,
     "start_time": "2021-01-27T18:13:07.215132",
     "status": "completed"
    },
    "tags": []
   },
   "source": [
    "We get a lot of information from here combined with our knowledge of the data. We can deduce the following:\n",
    "* Categorical: Survived, Sex, and Embarked. Ordinal: Pclass.\n",
    "* Continous: Age, Fare. Discrete: SibSp, Parch.\n",
    "\n",
    "Moreover, Age and Cabin have a lot of null values which need to be dealt with. Embarked has 2 null values. We will deal with those soon.\n",
    "\n",
    "Note: we also need to check for those in our test data, which we will later."
   ]
  },
  {
   "cell_type": "code",
   "execution_count": 4,
   "metadata": {
    "execution": {
     "iopub.execute_input": "2021-01-27T18:13:07.312944Z",
     "iopub.status.busy": "2021-01-27T18:13:07.312228Z",
     "iopub.status.idle": "2021-01-27T18:13:07.342378Z",
     "shell.execute_reply": "2021-01-27T18:13:07.341703Z"
    },
    "papermill": {
     "duration": 0.068408,
     "end_time": "2021-01-27T18:13:07.342509",
     "exception": false,
     "start_time": "2021-01-27T18:13:07.274101",
     "status": "completed"
    },
    "tags": []
   },
   "outputs": [
    {
     "data": {
      "text/html": [
       "<div>\n",
       "<style scoped>\n",
       "    .dataframe tbody tr th:only-of-type {\n",
       "        vertical-align: middle;\n",
       "    }\n",
       "\n",
       "    .dataframe tbody tr th {\n",
       "        vertical-align: top;\n",
       "    }\n",
       "\n",
       "    .dataframe thead th {\n",
       "        text-align: right;\n",
       "    }\n",
       "</style>\n",
       "<table border=\"1\" class=\"dataframe\">\n",
       "  <thead>\n",
       "    <tr style=\"text-align: right;\">\n",
       "      <th></th>\n",
       "      <th>PassengerId</th>\n",
       "      <th>Survived</th>\n",
       "      <th>Pclass</th>\n",
       "      <th>Age</th>\n",
       "      <th>SibSp</th>\n",
       "      <th>Parch</th>\n",
       "      <th>Fare</th>\n",
       "    </tr>\n",
       "  </thead>\n",
       "  <tbody>\n",
       "    <tr>\n",
       "      <th>count</th>\n",
       "      <td>891.000000</td>\n",
       "      <td>891.000000</td>\n",
       "      <td>891.000000</td>\n",
       "      <td>714.000000</td>\n",
       "      <td>891.000000</td>\n",
       "      <td>891.000000</td>\n",
       "      <td>891.000000</td>\n",
       "    </tr>\n",
       "    <tr>\n",
       "      <th>mean</th>\n",
       "      <td>446.000000</td>\n",
       "      <td>0.383838</td>\n",
       "      <td>2.308642</td>\n",
       "      <td>29.699118</td>\n",
       "      <td>0.523008</td>\n",
       "      <td>0.381594</td>\n",
       "      <td>32.204208</td>\n",
       "    </tr>\n",
       "    <tr>\n",
       "      <th>std</th>\n",
       "      <td>257.353842</td>\n",
       "      <td>0.486592</td>\n",
       "      <td>0.836071</td>\n",
       "      <td>14.526497</td>\n",
       "      <td>1.102743</td>\n",
       "      <td>0.806057</td>\n",
       "      <td>49.693429</td>\n",
       "    </tr>\n",
       "    <tr>\n",
       "      <th>min</th>\n",
       "      <td>1.000000</td>\n",
       "      <td>0.000000</td>\n",
       "      <td>1.000000</td>\n",
       "      <td>0.420000</td>\n",
       "      <td>0.000000</td>\n",
       "      <td>0.000000</td>\n",
       "      <td>0.000000</td>\n",
       "    </tr>\n",
       "    <tr>\n",
       "      <th>25%</th>\n",
       "      <td>223.500000</td>\n",
       "      <td>0.000000</td>\n",
       "      <td>2.000000</td>\n",
       "      <td>20.125000</td>\n",
       "      <td>0.000000</td>\n",
       "      <td>0.000000</td>\n",
       "      <td>7.910400</td>\n",
       "    </tr>\n",
       "    <tr>\n",
       "      <th>50%</th>\n",
       "      <td>446.000000</td>\n",
       "      <td>0.000000</td>\n",
       "      <td>3.000000</td>\n",
       "      <td>28.000000</td>\n",
       "      <td>0.000000</td>\n",
       "      <td>0.000000</td>\n",
       "      <td>14.454200</td>\n",
       "    </tr>\n",
       "    <tr>\n",
       "      <th>75%</th>\n",
       "      <td>668.500000</td>\n",
       "      <td>1.000000</td>\n",
       "      <td>3.000000</td>\n",
       "      <td>38.000000</td>\n",
       "      <td>1.000000</td>\n",
       "      <td>0.000000</td>\n",
       "      <td>31.000000</td>\n",
       "    </tr>\n",
       "    <tr>\n",
       "      <th>max</th>\n",
       "      <td>891.000000</td>\n",
       "      <td>1.000000</td>\n",
       "      <td>3.000000</td>\n",
       "      <td>80.000000</td>\n",
       "      <td>8.000000</td>\n",
       "      <td>6.000000</td>\n",
       "      <td>512.329200</td>\n",
       "    </tr>\n",
       "  </tbody>\n",
       "</table>\n",
       "</div>"
      ],
      "text/plain": [
       "       PassengerId    Survived      Pclass         Age       SibSp  \\\n",
       "count   891.000000  891.000000  891.000000  714.000000  891.000000   \n",
       "mean    446.000000    0.383838    2.308642   29.699118    0.523008   \n",
       "std     257.353842    0.486592    0.836071   14.526497    1.102743   \n",
       "min       1.000000    0.000000    1.000000    0.420000    0.000000   \n",
       "25%     223.500000    0.000000    2.000000   20.125000    0.000000   \n",
       "50%     446.000000    0.000000    3.000000   28.000000    0.000000   \n",
       "75%     668.500000    1.000000    3.000000   38.000000    1.000000   \n",
       "max     891.000000    1.000000    3.000000   80.000000    8.000000   \n",
       "\n",
       "            Parch        Fare  \n",
       "count  891.000000  891.000000  \n",
       "mean     0.381594   32.204208  \n",
       "std      0.806057   49.693429  \n",
       "min      0.000000    0.000000  \n",
       "25%      0.000000    7.910400  \n",
       "50%      0.000000   14.454200  \n",
       "75%      0.000000   31.000000  \n",
       "max      6.000000  512.329200  "
      ]
     },
     "execution_count": 4,
     "metadata": {},
     "output_type": "execute_result"
    }
   ],
   "source": [
    "training_data.describe() #as we are exploring the data, it might be helpful to see the distribution of numerical values across the sample"
   ]
  },
  {
   "cell_type": "markdown",
   "metadata": {
    "papermill": {
     "duration": 0.028585,
     "end_time": "2021-01-27T18:13:07.400223",
     "exception": false,
     "start_time": "2021-01-27T18:13:07.371638",
     "status": "completed"
    },
    "tags": []
   },
   "source": [
    "#### Some insights we can gather:\n",
    "* The training data is representative of almost 40% of the actual number of passengers (891 passenegers / 2224)\n",
    "* survived is actually a categorical feature with 0 as not survived and 1 as survived\n",
    "* around 38% survived from our training data set sample\n",
    "* more than 75% of passengers did not travel with parents or children. more than 50% of passengers did not travel with siblings or spouses\n",
    "* for Fare, the mean is 32 and 75% of passengers paid less than 32. which shows that their is a huge gap since the max is 512\n",
    "* There aren't tha many elderly onboard. max is 80 while 75% of passengers are less than 38\n",
    "> "
   ]
  },
  {
   "cell_type": "code",
   "execution_count": 5,
   "metadata": {
    "execution": {
     "iopub.execute_input": "2021-01-27T18:13:07.469132Z",
     "iopub.status.busy": "2021-01-27T18:13:07.465237Z",
     "iopub.status.idle": "2021-01-27T18:13:07.514086Z",
     "shell.execute_reply": "2021-01-27T18:13:07.513459Z"
    },
    "papermill": {
     "duration": 0.084805,
     "end_time": "2021-01-27T18:13:07.514208",
     "exception": false,
     "start_time": "2021-01-27T18:13:07.429403",
     "status": "completed"
    },
    "tags": []
   },
   "outputs": [
    {
     "data": {
      "text/html": [
       "<div>\n",
       "<style scoped>\n",
       "    .dataframe tbody tr th:only-of-type {\n",
       "        vertical-align: middle;\n",
       "    }\n",
       "\n",
       "    .dataframe tbody tr th {\n",
       "        vertical-align: top;\n",
       "    }\n",
       "\n",
       "    .dataframe thead th {\n",
       "        text-align: right;\n",
       "    }\n",
       "</style>\n",
       "<table border=\"1\" class=\"dataframe\">\n",
       "  <thead>\n",
       "    <tr style=\"text-align: right;\">\n",
       "      <th></th>\n",
       "      <th>Name</th>\n",
       "      <th>Sex</th>\n",
       "      <th>Ticket</th>\n",
       "      <th>Cabin</th>\n",
       "      <th>Embarked</th>\n",
       "    </tr>\n",
       "  </thead>\n",
       "  <tbody>\n",
       "    <tr>\n",
       "      <th>count</th>\n",
       "      <td>891</td>\n",
       "      <td>891</td>\n",
       "      <td>891</td>\n",
       "      <td>204</td>\n",
       "      <td>889</td>\n",
       "    </tr>\n",
       "    <tr>\n",
       "      <th>unique</th>\n",
       "      <td>891</td>\n",
       "      <td>2</td>\n",
       "      <td>681</td>\n",
       "      <td>147</td>\n",
       "      <td>3</td>\n",
       "    </tr>\n",
       "    <tr>\n",
       "      <th>top</th>\n",
       "      <td>Skoog, Mrs. William (Anna Bernhardina Karlsson)</td>\n",
       "      <td>male</td>\n",
       "      <td>CA. 2343</td>\n",
       "      <td>B96 B98</td>\n",
       "      <td>S</td>\n",
       "    </tr>\n",
       "    <tr>\n",
       "      <th>freq</th>\n",
       "      <td>1</td>\n",
       "      <td>577</td>\n",
       "      <td>7</td>\n",
       "      <td>4</td>\n",
       "      <td>644</td>\n",
       "    </tr>\n",
       "  </tbody>\n",
       "</table>\n",
       "</div>"
      ],
      "text/plain": [
       "                                                   Name   Sex    Ticket  \\\n",
       "count                                               891   891       891   \n",
       "unique                                              891     2       681   \n",
       "top     Skoog, Mrs. William (Anna Bernhardina Karlsson)  male  CA. 2343   \n",
       "freq                                                  1   577         7   \n",
       "\n",
       "          Cabin Embarked  \n",
       "count       204      889  \n",
       "unique      147        3  \n",
       "top     B96 B98        S  \n",
       "freq          4      644  "
      ]
     },
     "execution_count": 5,
     "metadata": {},
     "output_type": "execute_result"
    }
   ],
   "source": [
    "training_data.describe(include=['O']) #let's check the distribution of categorical features"
   ]
  },
  {
   "cell_type": "markdown",
   "metadata": {
    "papermill": {
     "duration": 0.029195,
     "end_time": "2021-01-27T18:13:07.573377",
     "exception": false,
     "start_time": "2021-01-27T18:13:07.544182",
     "status": "completed"
    },
    "tags": []
   },
   "source": [
    "#### Some insights we can gather:\n",
    "* present passengers in our sample are predominantly males (65% = 566/891)\n",
    "* Embarked has 3 possible values with 'S' port used by most passengers"
   ]
  },
  {
   "cell_type": "code",
   "execution_count": 6,
   "metadata": {
    "execution": {
     "iopub.execute_input": "2021-01-27T18:13:07.638918Z",
     "iopub.status.busy": "2021-01-27T18:13:07.637463Z",
     "iopub.status.idle": "2021-01-27T18:13:09.295162Z",
     "shell.execute_reply": "2021-01-27T18:13:09.295650Z"
    },
    "papermill": {
     "duration": 1.692835,
     "end_time": "2021-01-27T18:13:09.295810",
     "exception": false,
     "start_time": "2021-01-27T18:13:07.602975",
     "status": "completed"
    },
    "tags": []
   },
   "outputs": [
    {
     "data": {
      "image/png": "[encoded data removed]",
      "text/plain": [
       "<Figure size 432x288 with 2 Axes>"
      ]
     },
     "metadata": {
      "needs_background": "light"
     },
     "output_type": "display_data"
    }
   ],
   "source": [
    "import seaborn as sns\n",
    "\n",
    "\n",
    "sns.heatmap(training_data.corr(), annot=True, fmt=\".2f\"); #showing a heatmap to take a very quick look at correlations between features"
   ]
  },
  {
   "cell_type": "markdown",
   "metadata": {
    "papermill": {
     "duration": 0.03048,
     "end_time": "2021-01-27T18:13:09.357803",
     "exception": false,
     "start_time": "2021-01-27T18:13:09.327323",
     "status": "completed"
    },
    "tags": []
   },
   "source": [
    "This correlation heat map is not very accurate, but atleast it can give some insights. We can see that our outcome variable `Survived` is highly correlated with `Pclass` and `Fare`. The reason that this heat map might not be very accurate is because it is not normalized and that it might take some catogorical variables as continuous. \n",
    "\n"
   ]
  },
  {
   "cell_type": "markdown",
   "metadata": {
    "papermill": {
     "duration": 0.030849,
     "end_time": "2021-01-27T18:13:09.420236",
     "exception": false,
     "start_time": "2021-01-27T18:13:09.389387",
     "status": "completed"
    },
    "tags": []
   },
   "source": [
    "## Explore by visualizing the data\n",
    "\n",
    "More exploration can be done by visualization of the data, especially relationships that are not presentable by the correlation heat map above.\n",
    "\n",
    "In the decisions of why the below visualizations were chosen, I guess it is a mix between trial and error and some biased guesses. (ex: one might infer that women and children might be prioritized in rescuing and evacuation scenarios)"
   ]
  },
  {
   "cell_type": "code",
   "execution_count": 7,
   "metadata": {
    "execution": {
     "iopub.execute_input": "2021-01-27T18:13:09.488378Z",
     "iopub.status.busy": "2021-01-27T18:13:09.487746Z",
     "iopub.status.idle": "2021-01-27T18:13:09.882034Z",
     "shell.execute_reply": "2021-01-27T18:13:09.882550Z"
    },
    "papermill": {
     "duration": 0.430113,
     "end_time": "2021-01-27T18:13:09.882713",
     "exception": false,
     "start_time": "2021-01-27T18:13:09.452600",
     "status": "completed"
    },
    "tags": []
   },
   "outputs": [
    {
     "data": {
      "image/png": "[encoded data removed]",
      "text/plain": [
       "<Figure size 432x288 with 1 Axes>"
      ]
     },
     "metadata": {
      "needs_background": "light"
     },
     "output_type": "display_data"
    }
   ],
   "source": [
    "sns.barplot(x=\"Pclass\", y=\"Survived\", hue=\"Sex\", data=training_data);\n"
   ]
  },
  {
   "cell_type": "markdown",
   "metadata": {
    "papermill": {
     "duration": 0.035918,
     "end_time": "2021-01-27T18:13:09.951323",
     "exception": false,
     "start_time": "2021-01-27T18:13:09.915405",
     "status": "completed"
    },
    "tags": []
   },
   "source": [
    "* it appears that as a women, if your were from class 1 or 2 (ie. higher classes), you had a 90% of surviving\n",
    "* men in Pclass 1 also had almost 40% change of surviving, much higher than men in lower classes"
   ]
  },
  {
   "cell_type": "code",
   "execution_count": 8,
   "metadata": {
    "execution": {
     "iopub.execute_input": "2021-01-27T18:13:10.022470Z",
     "iopub.status.busy": "2021-01-27T18:13:10.021737Z",
     "iopub.status.idle": "2021-01-27T18:13:11.303895Z",
     "shell.execute_reply": "2021-01-27T18:13:11.304385Z"
    },
    "papermill": {
     "duration": 1.320322,
     "end_time": "2021-01-27T18:13:11.304567",
     "exception": false,
     "start_time": "2021-01-27T18:13:09.984245",
     "status": "completed"
    },
    "tags": []
   },
   "outputs": [
    {
     "data": {
      "text/plain": [
       "<seaborn.axisgrid.FacetGrid at 0x7f41e7f65d50>"
      ]
     },
     "execution_count": 8,
     "metadata": {},
     "output_type": "execute_result"
    },
    {
     "data": {
      "image/png": "[encoded data removed]",
      "text/plain": [
       "<Figure size 432x432 with 4 Axes>"
      ]
     },
     "metadata": {
      "needs_background": "light"
     },
     "output_type": "display_data"
    }
   ],
   "source": [
    "import matplotlib.pyplot as plt\n",
    "g = sns.FacetGrid(training_data, col='Survived', row='Sex')\n",
    "g.map(plt.hist, 'Age', bins=30)"
   ]
  },
  {
   "cell_type": "markdown",
   "metadata": {
    "papermill": {
     "duration": 0.033014,
     "end_time": "2021-01-27T18:13:11.371060",
     "exception": false,
     "start_time": "2021-01-27T18:13:11.338046",
     "status": "completed"
    },
    "tags": []
   },
   "source": [
    "* ok, what I can read from the above is that most males that have survived were children. \n",
    "* and a loooooot of males did not survive. (though majority of passengers were males)\n",
    "\n"
   ]
  },
  {
   "cell_type": "code",
   "execution_count": 9,
   "metadata": {
    "execution": {
     "iopub.execute_input": "2021-01-27T18:13:11.442275Z",
     "iopub.status.busy": "2021-01-27T18:13:11.441257Z",
     "iopub.status.idle": "2021-01-27T18:13:12.739517Z",
     "shell.execute_reply": "2021-01-27T18:13:12.738952Z"
    },
    "papermill": {
     "duration": 1.335353,
     "end_time": "2021-01-27T18:13:12.739638",
     "exception": false,
     "start_time": "2021-01-27T18:13:11.404285",
     "status": "completed"
    },
    "tags": []
   },
   "outputs": [
    {
     "name": "stderr",
     "output_type": "stream",
     "text": [
      "/opt/conda/lib/python3.7/site-packages/seaborn/axisgrid.py:728: UserWarning: Using the pointplot function without specifying `order` is likely to produce an incorrect plot.\n",
      "  warnings.warn(warning)\n",
      "/opt/conda/lib/python3.7/site-packages/seaborn/axisgrid.py:733: UserWarning: Using the pointplot function without specifying `hue_order` is likely to produce an incorrect plot.\n",
      "  warnings.warn(warning)\n"
     ]
    },
    {
     "data": {
      "image/png": "[encoded data removed]",
      "text/plain": [
       "<Figure size 323.94x475.2 with 3 Axes>"
      ]
     },
     "metadata": {
      "needs_background": "light"
     },
     "output_type": "display_data"
    }
   ],
   "source": [
    "grid = sns.FacetGrid(training_data, row='Embarked', height=2.2, aspect=1.6);\n",
    "grid.map(sns.pointplot, 'Pclass', 'Survived', 'Sex', palette = 'deep');\n",
    "grid.add_legend();"
   ]
  },
  {
   "cell_type": "markdown",
   "metadata": {
    "papermill": {
     "duration": 0.03642,
     "end_time": "2021-01-27T18:13:12.811279",
     "exception": false,
     "start_time": "2021-01-27T18:13:12.774859",
     "status": "completed"
    },
    "tags": []
   },
   "source": [
    "wow!!! males embarked from port 'C' just have high survival rates, even in the lowest class. I gotta dive deeper to check if this is because there is just high number of children males or all of them are Pclass 1 or what??"
   ]
  },
  {
   "cell_type": "code",
   "execution_count": 10,
   "metadata": {
    "execution": {
     "iopub.execute_input": "2021-01-27T18:13:12.893858Z",
     "iopub.status.busy": "2021-01-27T18:13:12.893197Z",
     "iopub.status.idle": "2021-01-27T18:13:12.899425Z",
     "shell.execute_reply": "2021-01-27T18:13:12.898681Z"
    },
    "papermill": {
     "duration": 0.053448,
     "end_time": "2021-01-27T18:13:12.899560",
     "exception": false,
     "start_time": "2021-01-27T18:13:12.846112",
     "status": "completed"
    },
    "tags": []
   },
   "outputs": [
    {
     "data": {
      "text/plain": [
       "Pclass  Sex   \n",
       "1       female    38\n",
       "        male      36\n",
       "2       female     7\n",
       "        male       8\n",
       "3       female    16\n",
       "        male      25\n",
       "Name: Age, dtype: int64"
      ]
     },
     "execution_count": 10,
     "metadata": {},
     "output_type": "execute_result"
    }
   ],
   "source": [
    "training_data[training_data.Embarked == 'C'].groupby(['Pclass','Sex']).Age.count()"
   ]
  },
  {
   "cell_type": "code",
   "execution_count": 11,
   "metadata": {
    "execution": {
     "iopub.execute_input": "2021-01-27T18:13:12.984671Z",
     "iopub.status.busy": "2021-01-27T18:13:12.983645Z",
     "iopub.status.idle": "2021-01-27T18:13:12.988284Z",
     "shell.execute_reply": "2021-01-27T18:13:12.987647Z"
    },
    "papermill": {
     "duration": 0.05282,
     "end_time": "2021-01-27T18:13:12.988393",
     "exception": false,
     "start_time": "2021-01-27T18:13:12.935573",
     "status": "completed"
    },
    "tags": []
   },
   "outputs": [
    {
     "data": {
      "text/plain": [
       "Pclass  Sex   \n",
       "1       female    36.052632\n",
       "        male      40.111111\n",
       "2       female    19.142857\n",
       "        male      25.937500\n",
       "3       female    14.062500\n",
       "        male      25.016800\n",
       "Name: Age, dtype: float64"
      ]
     },
     "execution_count": 11,
     "metadata": {},
     "output_type": "execute_result"
    }
   ],
   "source": [
    "training_data[training_data.Embarked == 'C'].groupby(['Pclass','Sex']).Age.mean()"
   ]
  },
  {
   "cell_type": "code",
   "execution_count": 12,
   "metadata": {
    "execution": {
     "iopub.execute_input": "2021-01-27T18:13:13.068009Z",
     "iopub.status.busy": "2021-01-27T18:13:13.066996Z",
     "iopub.status.idle": "2021-01-27T18:13:13.072180Z",
     "shell.execute_reply": "2021-01-27T18:13:13.071651Z"
    },
    "papermill": {
     "duration": 0.048111,
     "end_time": "2021-01-27T18:13:13.072291",
     "exception": false,
     "start_time": "2021-01-27T18:13:13.024180",
     "status": "completed"
    },
    "tags": []
   },
   "outputs": [
    {
     "data": {
      "text/plain": [
       "Embarked\n",
       "C    0.553571\n",
       "Q    0.389610\n",
       "S    0.336957\n",
       "Name: Survived, dtype: float64"
      ]
     },
     "execution_count": 12,
     "metadata": {},
     "output_type": "execute_result"
    }
   ],
   "source": [
    "training_data.groupby(['Embarked']).Survived.mean()"
   ]
  },
  {
   "cell_type": "markdown",
   "metadata": {
    "papermill": {
     "duration": 0.036016,
     "end_time": "2021-01-27T18:13:13.144891",
     "exception": false,
     "start_time": "2021-01-27T18:13:13.108875",
     "status": "completed"
    },
    "tags": []
   },
   "source": [
    "Nope, seems normal. Therefore, Embarked from 'C' tends to have high male survival rate :)\n",
    "Actually, Embarked at 'C' generally has higher survival rate. Definitely, this feature is going into my ML model."
   ]
  },
  {
   "cell_type": "code",
   "execution_count": 13,
   "metadata": {
    "execution": {
     "iopub.execute_input": "2021-01-27T18:13:13.227071Z",
     "iopub.status.busy": "2021-01-27T18:13:13.225931Z",
     "iopub.status.idle": "2021-01-27T18:13:13.239238Z",
     "shell.execute_reply": "2021-01-27T18:13:13.239727Z"
    },
    "papermill": {
     "duration": 0.058073,
     "end_time": "2021-01-27T18:13:13.239875",
     "exception": false,
     "start_time": "2021-01-27T18:13:13.181802",
     "status": "completed"
    },
    "tags": []
   },
   "outputs": [
    {
     "data": {
      "text/html": [
       "<div>\n",
       "<style scoped>\n",
       "    .dataframe tbody tr th:only-of-type {\n",
       "        vertical-align: middle;\n",
       "    }\n",
       "\n",
       "    .dataframe tbody tr th {\n",
       "        vertical-align: top;\n",
       "    }\n",
       "\n",
       "    .dataframe thead th {\n",
       "        text-align: right;\n",
       "    }\n",
       "</style>\n",
       "<table border=\"1\" class=\"dataframe\">\n",
       "  <thead>\n",
       "    <tr style=\"text-align: right;\">\n",
       "      <th></th>\n",
       "      <th>Pclass</th>\n",
       "      <th>Sex</th>\n",
       "      <th>Survived</th>\n",
       "    </tr>\n",
       "  </thead>\n",
       "  <tbody>\n",
       "    <tr>\n",
       "      <th>0</th>\n",
       "      <td>1</td>\n",
       "      <td>female</td>\n",
       "      <td>0.968085</td>\n",
       "    </tr>\n",
       "    <tr>\n",
       "      <th>2</th>\n",
       "      <td>2</td>\n",
       "      <td>female</td>\n",
       "      <td>0.921053</td>\n",
       "    </tr>\n",
       "    <tr>\n",
       "      <th>4</th>\n",
       "      <td>3</td>\n",
       "      <td>female</td>\n",
       "      <td>0.500000</td>\n",
       "    </tr>\n",
       "    <tr>\n",
       "      <th>1</th>\n",
       "      <td>1</td>\n",
       "      <td>male</td>\n",
       "      <td>0.368852</td>\n",
       "    </tr>\n",
       "    <tr>\n",
       "      <th>3</th>\n",
       "      <td>2</td>\n",
       "      <td>male</td>\n",
       "      <td>0.157407</td>\n",
       "    </tr>\n",
       "    <tr>\n",
       "      <th>5</th>\n",
       "      <td>3</td>\n",
       "      <td>male</td>\n",
       "      <td>0.135447</td>\n",
       "    </tr>\n",
       "  </tbody>\n",
       "</table>\n",
       "</div>"
      ],
      "text/plain": [
       "   Pclass     Sex  Survived\n",
       "0       1  female  0.968085\n",
       "2       2  female  0.921053\n",
       "4       3  female  0.500000\n",
       "1       1    male  0.368852\n",
       "3       2    male  0.157407\n",
       "5       3    male  0.135447"
      ]
     },
     "execution_count": 13,
     "metadata": {},
     "output_type": "execute_result"
    }
   ],
   "source": [
    "training_data[[\"Pclass\", \"Survived\", 'Sex']].groupby(['Pclass', 'Sex'], as_index=False).mean().sort_values(by='Survived', ascending=False)"
   ]
  },
  {
   "cell_type": "markdown",
   "metadata": {
    "papermill": {
     "duration": 0.036307,
     "end_time": "2021-01-27T18:13:13.313067",
     "exception": false,
     "start_time": "2021-01-27T18:13:13.276760",
     "status": "completed"
    },
    "tags": []
   },
   "source": [
    "Wow! it seems that for a female from Pclass 1 or 2, it is more than 90% of a survival rate.\n",
    "\n",
    "I want to add age into that table, but I'll have to bin age before doing that."
   ]
  },
  {
   "cell_type": "code",
   "execution_count": 14,
   "metadata": {
    "execution": {
     "iopub.execute_input": "2021-01-27T18:13:13.390475Z",
     "iopub.status.busy": "2021-01-27T18:13:13.389707Z",
     "iopub.status.idle": "2021-01-27T18:13:13.399281Z",
     "shell.execute_reply": "2021-01-27T18:13:13.399815Z"
    },
    "papermill": {
     "duration": 0.050128,
     "end_time": "2021-01-27T18:13:13.399955",
     "exception": false,
     "start_time": "2021-01-27T18:13:13.349827",
     "status": "completed"
    },
    "tags": []
   },
   "outputs": [],
   "source": [
    "training_data.Age = training_data.Age.fillna(-0.5)\n",
    "bins = (-1, 0, 5, 12, 18, 25, 35, 60, 120)\n",
    "group_names = ['Unknown', 'Baby', 'Child', 'Teenager', 'Student', 'Young Adult', 'Adult', 'Senior']\n",
    "categories = pd.cut(training_data.Age, bins, labels=group_names)\n",
    "training_data.Age = categories"
   ]
  },
  {
   "cell_type": "code",
   "execution_count": 15,
   "metadata": {
    "execution": {
     "iopub.execute_input": "2021-01-27T18:13:13.478698Z",
     "iopub.status.busy": "2021-01-27T18:13:13.478057Z",
     "iopub.status.idle": "2021-01-27T18:13:16.398704Z",
     "shell.execute_reply": "2021-01-27T18:13:16.397893Z"
    },
    "papermill": {
     "duration": 2.961659,
     "end_time": "2021-01-27T18:13:16.398831",
     "exception": false,
     "start_time": "2021-01-27T18:13:13.437172",
     "status": "completed"
    },
    "tags": []
   },
   "outputs": [
    {
     "name": "stderr",
     "output_type": "stream",
     "text": [
      "/opt/conda/lib/python3.7/site-packages/seaborn/axisgrid.py:728: UserWarning: Using the barplot function without specifying `order` is likely to produce an incorrect plot.\n",
      "  warnings.warn(warning)\n"
     ]
    },
    {
     "data": {
      "text/plain": [
       "<seaborn.axisgrid.FacetGrid at 0x7f41f066cdd0>"
      ]
     },
     "execution_count": 15,
     "metadata": {},
     "output_type": "execute_result"
    },
    {
     "data": {
      "image/png": "[encoded data removed]",
      "text/plain": [
       "<Figure size 648x432 with 6 Axes>"
      ]
     },
     "metadata": {
      "needs_background": "light"
     },
     "output_type": "display_data"
    }
   ],
   "source": [
    "g = sns.FacetGrid(training_data, col='Pclass', row='Sex')\n",
    "g.map(sns.barplot, 'Survived', 'Age')"
   ]
  },
  {
   "cell_type": "markdown",
   "metadata": {
    "papermill": {
     "duration": 0.041089,
     "end_time": "2021-01-27T18:13:16.479963",
     "exception": false,
     "start_time": "2021-01-27T18:13:16.438874",
     "status": "completed"
    },
    "tags": []
   },
   "source": [
    "This says a lot:\n",
    "* All babies and children seem to have survived, excpect for Female Pclass 1 (I'm thinking there were no female children or babies at Pclass 1)\n",
    "* Without doubt, the highest predictor of someone survived would be Sex , then Pclass...."
   ]
  },
  {
   "cell_type": "markdown",
   "metadata": {
    "papermill": {
     "duration": 0.039814,
     "end_time": "2021-01-27T18:13:16.559020",
     "exception": false,
     "start_time": "2021-01-27T18:13:16.519206",
     "status": "completed"
    },
    "tags": []
   },
   "source": [
    "# Machine Learning Model Fitting\n",
    "\n",
    "I think we have explored the data enough to choose feature to include in our machine learning model, I chose:\n",
    "\n",
    "1. Pclass\n",
    "2. Sex\n",
    "3. Age\n",
    "4. Embarked\n",
    "5. Fare (high correlation with survived from heatmap)\n",
    "\n",
    "Though before fitting, we will simplify continuous features into groups."
   ]
  },
  {
   "cell_type": "code",
   "execution_count": 16,
   "metadata": {
    "execution": {
     "iopub.execute_input": "2021-01-27T18:13:16.654891Z",
     "iopub.status.busy": "2021-01-27T18:13:16.648029Z",
     "iopub.status.idle": "2021-01-27T18:13:16.674160Z",
     "shell.execute_reply": "2021-01-27T18:13:16.673470Z"
    },
    "papermill": {
     "duration": 0.075615,
     "end_time": "2021-01-27T18:13:16.674278",
     "exception": false,
     "start_time": "2021-01-27T18:13:16.598663",
     "status": "completed"
    },
    "tags": []
   },
   "outputs": [
    {
     "data": {
      "text/html": [
       "<div>\n",
       "<style scoped>\n",
       "    .dataframe tbody tr th:only-of-type {\n",
       "        vertical-align: middle;\n",
       "    }\n",
       "\n",
       "    .dataframe tbody tr th {\n",
       "        vertical-align: top;\n",
       "    }\n",
       "\n",
       "    .dataframe thead th {\n",
       "        text-align: right;\n",
       "    }\n",
       "</style>\n",
       "<table border=\"1\" class=\"dataframe\">\n",
       "  <thead>\n",
       "    <tr style=\"text-align: right;\">\n",
       "      <th></th>\n",
       "      <th>PassengerId</th>\n",
       "      <th>Survived</th>\n",
       "      <th>Pclass</th>\n",
       "      <th>Sex</th>\n",
       "      <th>Age</th>\n",
       "      <th>Fare</th>\n",
       "      <th>Embarked</th>\n",
       "    </tr>\n",
       "  </thead>\n",
       "  <tbody>\n",
       "    <tr>\n",
       "      <th>0</th>\n",
       "      <td>1</td>\n",
       "      <td>0</td>\n",
       "      <td>3</td>\n",
       "      <td>male</td>\n",
       "      <td>Student</td>\n",
       "      <td>1_quartile</td>\n",
       "      <td>S</td>\n",
       "    </tr>\n",
       "    <tr>\n",
       "      <th>1</th>\n",
       "      <td>2</td>\n",
       "      <td>1</td>\n",
       "      <td>1</td>\n",
       "      <td>female</td>\n",
       "      <td>Adult</td>\n",
       "      <td>4_quartile</td>\n",
       "      <td>C</td>\n",
       "    </tr>\n",
       "    <tr>\n",
       "      <th>2</th>\n",
       "      <td>3</td>\n",
       "      <td>1</td>\n",
       "      <td>3</td>\n",
       "      <td>female</td>\n",
       "      <td>Young Adult</td>\n",
       "      <td>1_quartile</td>\n",
       "      <td>S</td>\n",
       "    </tr>\n",
       "    <tr>\n",
       "      <th>3</th>\n",
       "      <td>4</td>\n",
       "      <td>1</td>\n",
       "      <td>1</td>\n",
       "      <td>female</td>\n",
       "      <td>Young Adult</td>\n",
       "      <td>4_quartile</td>\n",
       "      <td>S</td>\n",
       "    </tr>\n",
       "    <tr>\n",
       "      <th>4</th>\n",
       "      <td>5</td>\n",
       "      <td>0</td>\n",
       "      <td>3</td>\n",
       "      <td>male</td>\n",
       "      <td>Young Adult</td>\n",
       "      <td>2_quartile</td>\n",
       "      <td>S</td>\n",
       "    </tr>\n",
       "  </tbody>\n",
       "</table>\n",
       "</div>"
      ],
      "text/plain": [
       "   PassengerId  Survived  Pclass     Sex          Age        Fare Embarked\n",
       "0            1         0       3    male      Student  1_quartile        S\n",
       "1            2         1       1  female        Adult  4_quartile        C\n",
       "2            3         1       3  female  Young Adult  1_quartile        S\n",
       "3            4         1       1  female  Young Adult  4_quartile        S\n",
       "4            5         0       3    male  Young Adult  2_quartile        S"
      ]
     },
     "execution_count": 16,
     "metadata": {},
     "output_type": "execute_result"
    }
   ],
   "source": [
    "def simplify_ages(df): #this is the same code we did for the training data put into a function to process test data\n",
    "    df.Age = df.Age.fillna(-0.5)\n",
    "    bins = (-1, 0, 5, 12, 18, 25, 35, 60, 120)\n",
    "    group_names = ['Unknown', 'Baby', 'Child', 'Teenager', 'Student', 'Young Adult', 'Adult', 'Senior']\n",
    "    categories = pd.cut(df.Age, bins, labels=group_names)\n",
    "    df.Age = categories\n",
    "    return df\n",
    "\n",
    "\n",
    "def simplify_fares(df):\n",
    "    df.Fare = df.Fare.fillna(-0.5)\n",
    "    bins = (-1, 0, 8, 15, 31, 1000)\n",
    "    group_names = ['Unknown', '1_quartile', '2_quartile', '3_quartile', '4_quartile']\n",
    "    categories = pd.cut(df.Fare, bins, labels=group_names)\n",
    "    df.Fare = categories\n",
    "    return df\n",
    "\n",
    "def drop_features(df):\n",
    "    return df.drop(['Ticket', 'Name', 'SibSp', 'Parch', 'Cabin'], axis=1)\n",
    "\n",
    "\n",
    "\n",
    "training_data = simplify_fares(training_data)\n",
    "training_data = drop_features(training_data)\n",
    "training_data = training_data.dropna()\n",
    "\n",
    "training_data.head()"
   ]
  },
  {
   "cell_type": "markdown",
   "metadata": {
    "papermill": {
     "duration": 0.039437,
     "end_time": "2021-01-27T18:13:16.753917",
     "exception": false,
     "start_time": "2021-01-27T18:13:16.714480",
     "status": "completed"
    },
    "tags": []
   },
   "source": [
    "### Repeat processing for test data\n",
    "Since we like how the data frame looks, let's preprocess our test data as well"
   ]
  },
  {
   "cell_type": "code",
   "execution_count": 17,
   "metadata": {
    "execution": {
     "iopub.execute_input": "2021-01-27T18:13:16.844332Z",
     "iopub.status.busy": "2021-01-27T18:13:16.843667Z",
     "iopub.status.idle": "2021-01-27T18:13:16.874419Z",
     "shell.execute_reply": "2021-01-27T18:13:16.873876Z"
    },
    "papermill": {
     "duration": 0.080736,
     "end_time": "2021-01-27T18:13:16.874553",
     "exception": false,
     "start_time": "2021-01-27T18:13:16.793817",
     "status": "completed"
    },
    "tags": []
   },
   "outputs": [
    {
     "data": {
      "text/html": [
       "<div>\n",
       "<style scoped>\n",
       "    .dataframe tbody tr th:only-of-type {\n",
       "        vertical-align: middle;\n",
       "    }\n",
       "\n",
       "    .dataframe tbody tr th {\n",
       "        vertical-align: top;\n",
       "    }\n",
       "\n",
       "    .dataframe thead th {\n",
       "        text-align: right;\n",
       "    }\n",
       "</style>\n",
       "<table border=\"1\" class=\"dataframe\">\n",
       "  <thead>\n",
       "    <tr style=\"text-align: right;\">\n",
       "      <th></th>\n",
       "      <th>PassengerId</th>\n",
       "      <th>Pclass</th>\n",
       "      <th>Sex</th>\n",
       "      <th>Age</th>\n",
       "      <th>Fare</th>\n",
       "      <th>Embarked</th>\n",
       "    </tr>\n",
       "  </thead>\n",
       "  <tbody>\n",
       "    <tr>\n",
       "      <th>0</th>\n",
       "      <td>892</td>\n",
       "      <td>3</td>\n",
       "      <td>male</td>\n",
       "      <td>Young Adult</td>\n",
       "      <td>1_quartile</td>\n",
       "      <td>Q</td>\n",
       "    </tr>\n",
       "    <tr>\n",
       "      <th>1</th>\n",
       "      <td>893</td>\n",
       "      <td>3</td>\n",
       "      <td>female</td>\n",
       "      <td>Adult</td>\n",
       "      <td>1_quartile</td>\n",
       "      <td>S</td>\n",
       "    </tr>\n",
       "    <tr>\n",
       "      <th>2</th>\n",
       "      <td>894</td>\n",
       "      <td>2</td>\n",
       "      <td>male</td>\n",
       "      <td>Senior</td>\n",
       "      <td>2_quartile</td>\n",
       "      <td>Q</td>\n",
       "    </tr>\n",
       "    <tr>\n",
       "      <th>3</th>\n",
       "      <td>895</td>\n",
       "      <td>3</td>\n",
       "      <td>male</td>\n",
       "      <td>Young Adult</td>\n",
       "      <td>2_quartile</td>\n",
       "      <td>S</td>\n",
       "    </tr>\n",
       "    <tr>\n",
       "      <th>4</th>\n",
       "      <td>896</td>\n",
       "      <td>3</td>\n",
       "      <td>female</td>\n",
       "      <td>Student</td>\n",
       "      <td>2_quartile</td>\n",
       "      <td>S</td>\n",
       "    </tr>\n",
       "  </tbody>\n",
       "</table>\n",
       "</div>"
      ],
      "text/plain": [
       "   PassengerId  Pclass     Sex          Age        Fare Embarked\n",
       "0          892       3    male  Young Adult  1_quartile        Q\n",
       "1          893       3  female        Adult  1_quartile        S\n",
       "2          894       2    male       Senior  2_quartile        Q\n",
       "3          895       3    male  Young Adult  2_quartile        S\n",
       "4          896       3  female      Student  2_quartile        S"
      ]
     },
     "execution_count": 17,
     "metadata": {},
     "output_type": "execute_result"
    }
   ],
   "source": [
    "test_data = pd.read_csv('/kaggle/input/titanic/test.csv')\n",
    "\n",
    "test = simplify_ages(test_data)\n",
    "test_data = simplify_fares(test_data)\n",
    "test_data = drop_features(test_data)\n",
    "test_data = test_data.dropna()\n",
    "\n",
    "test_data.head()"
   ]
  },
  {
   "cell_type": "markdown",
   "metadata": {
    "papermill": {
     "duration": 0.040068,
     "end_time": "2021-01-27T18:13:16.955067",
     "exception": false,
     "start_time": "2021-01-27T18:13:16.914999",
     "status": "completed"
    },
    "tags": []
   },
   "source": [
    "After getting our data frame with the features we desire for ML fitting, we need to normalize labels and encode them into a number to be enabled for algorithms. LabelEncoder in Scikit-learn will convert each unique string value into a number"
   ]
  },
  {
   "cell_type": "code",
   "execution_count": 18,
   "metadata": {
    "execution": {
     "iopub.execute_input": "2021-01-27T18:13:17.047556Z",
     "iopub.status.busy": "2021-01-27T18:13:17.046805Z",
     "iopub.status.idle": "2021-01-27T18:13:17.145236Z",
     "shell.execute_reply": "2021-01-27T18:13:17.144534Z"
    },
    "papermill": {
     "duration": 0.148096,
     "end_time": "2021-01-27T18:13:17.145350",
     "exception": false,
     "start_time": "2021-01-27T18:13:16.997254",
     "status": "completed"
    },
    "tags": []
   },
   "outputs": [
    {
     "data": {
      "text/html": [
       "<div>\n",
       "<style scoped>\n",
       "    .dataframe tbody tr th:only-of-type {\n",
       "        vertical-align: middle;\n",
       "    }\n",
       "\n",
       "    .dataframe tbody tr th {\n",
       "        vertical-align: top;\n",
       "    }\n",
       "\n",
       "    .dataframe thead th {\n",
       "        text-align: right;\n",
       "    }\n",
       "</style>\n",
       "<table border=\"1\" class=\"dataframe\">\n",
       "  <thead>\n",
       "    <tr style=\"text-align: right;\">\n",
       "      <th></th>\n",
       "      <th>PassengerId</th>\n",
       "      <th>Survived</th>\n",
       "      <th>Pclass</th>\n",
       "      <th>Sex</th>\n",
       "      <th>Age</th>\n",
       "      <th>Fare</th>\n",
       "      <th>Embarked</th>\n",
       "    </tr>\n",
       "  </thead>\n",
       "  <tbody>\n",
       "    <tr>\n",
       "      <th>0</th>\n",
       "      <td>1</td>\n",
       "      <td>0</td>\n",
       "      <td>2</td>\n",
       "      <td>1</td>\n",
       "      <td>4</td>\n",
       "      <td>0</td>\n",
       "      <td>2</td>\n",
       "    </tr>\n",
       "    <tr>\n",
       "      <th>1</th>\n",
       "      <td>2</td>\n",
       "      <td>1</td>\n",
       "      <td>0</td>\n",
       "      <td>0</td>\n",
       "      <td>0</td>\n",
       "      <td>3</td>\n",
       "      <td>0</td>\n",
       "    </tr>\n",
       "    <tr>\n",
       "      <th>2</th>\n",
       "      <td>3</td>\n",
       "      <td>1</td>\n",
       "      <td>2</td>\n",
       "      <td>0</td>\n",
       "      <td>7</td>\n",
       "      <td>0</td>\n",
       "      <td>2</td>\n",
       "    </tr>\n",
       "    <tr>\n",
       "      <th>3</th>\n",
       "      <td>4</td>\n",
       "      <td>1</td>\n",
       "      <td>0</td>\n",
       "      <td>0</td>\n",
       "      <td>7</td>\n",
       "      <td>3</td>\n",
       "      <td>2</td>\n",
       "    </tr>\n",
       "    <tr>\n",
       "      <th>4</th>\n",
       "      <td>5</td>\n",
       "      <td>0</td>\n",
       "      <td>2</td>\n",
       "      <td>1</td>\n",
       "      <td>7</td>\n",
       "      <td>1</td>\n",
       "      <td>2</td>\n",
       "    </tr>\n",
       "  </tbody>\n",
       "</table>\n",
       "</div>"
      ],
      "text/plain": [
       "   PassengerId  Survived  Pclass  Sex  Age  Fare  Embarked\n",
       "0            1         0       2    1    4     0         2\n",
       "1            2         1       0    0    0     3         0\n",
       "2            3         1       2    0    7     0         2\n",
       "3            4         1       0    0    7     3         2\n",
       "4            5         0       2    1    7     1         2"
      ]
     },
     "execution_count": 18,
     "metadata": {},
     "output_type": "execute_result"
    }
   ],
   "source": [
    "from sklearn import preprocessing\n",
    "\n",
    "def encode_features(df_train, df_test): \n",
    "    features = ['Pclass', 'Sex', 'Age', 'Fare', 'Embarked']\n",
    "    df_combined = pd.concat([df_train[features], df_test[features]])\n",
    "    \n",
    "    for feature in features:\n",
    "        le = preprocessing.LabelEncoder()\n",
    "        le = le.fit(df_combined[feature])\n",
    "        df_train[feature] = le.transform(df_train[feature])\n",
    "        df_test[feature] = le.transform(df_test[feature])\n",
    "    return df_train, df_test\n",
    "    \n",
    "training_data, test_data = encode_features(training_data, test_data)\n",
    "training_data.head()"
   ]
  },
  {
   "cell_type": "markdown",
   "metadata": {
    "papermill": {
     "duration": 0.041331,
     "end_time": "2021-01-27T18:13:17.228139",
     "exception": false,
     "start_time": "2021-01-27T18:13:17.186808",
     "status": "completed"
    },
    "tags": []
   },
   "source": [
    "## Fitting models\n",
    "Now we start fiting a couple of models, lets see the results and compare."
   ]
  },
  {
   "cell_type": "code",
   "execution_count": 19,
   "metadata": {
    "execution": {
     "iopub.execute_input": "2021-01-27T18:13:17.322251Z",
     "iopub.status.busy": "2021-01-27T18:13:17.318018Z",
     "iopub.status.idle": "2021-01-27T18:13:17.326322Z",
     "shell.execute_reply": "2021-01-27T18:13:17.325770Z"
    },
    "papermill": {
     "duration": 0.057056,
     "end_time": "2021-01-27T18:13:17.326448",
     "exception": false,
     "start_time": "2021-01-27T18:13:17.269392",
     "status": "completed"
    },
    "tags": []
   },
   "outputs": [
    {
     "data": {
      "text/plain": [
       "((889, 5), (889,), (418, 5))"
      ]
     },
     "execution_count": 19,
     "metadata": {},
     "output_type": "execute_result"
    }
   ],
   "source": [
    "#defining our train and test sets for fitting\n",
    "X_train = training_data.drop([\"Survived\",\"PassengerId\"], axis=1) #dropping outcome variable and PassengerId because its irrelevant\n",
    "Y_train = training_data[\"Survived\"]\n",
    "X_test  = test_data.drop(\"PassengerId\", axis=1).copy()\n",
    "\n",
    "X_train.shape, Y_train.shape, X_test.shape #checking shapes"
   ]
  },
  {
   "cell_type": "code",
   "execution_count": 20,
   "metadata": {
    "execution": {
     "iopub.execute_input": "2021-01-27T18:13:17.417649Z",
     "iopub.status.busy": "2021-01-27T18:13:17.416843Z",
     "iopub.status.idle": "2021-01-27T18:13:17.746889Z",
     "shell.execute_reply": "2021-01-27T18:13:17.746277Z"
    },
    "papermill": {
     "duration": 0.378452,
     "end_time": "2021-01-27T18:13:17.747005",
     "exception": false,
     "start_time": "2021-01-27T18:13:17.368553",
     "status": "completed"
    },
    "tags": []
   },
   "outputs": [],
   "source": [
    "# machine learning models\n",
    "from sklearn.linear_model import LogisticRegression\n",
    "from sklearn.svm import SVC, LinearSVC\n",
    "from sklearn.ensemble import RandomForestClassifier\n",
    "from sklearn.neighbors import KNeighborsClassifier\n",
    "from sklearn.naive_bayes import GaussianNB\n",
    "from sklearn.linear_model import Perceptron\n",
    "from sklearn.linear_model import SGDClassifier\n",
    "from sklearn.tree import DecisionTreeClassifier"
   ]
  },
  {
   "cell_type": "markdown",
   "metadata": {
    "papermill": {
     "duration": 0.045142,
     "end_time": "2021-01-27T18:13:17.833929",
     "exception": false,
     "start_time": "2021-01-27T18:13:17.788787",
     "status": "completed"
    },
    "tags": []
   },
   "source": [
    "Now we try the various machine learning models and check their accuracy.\n",
    "\n",
    "Note: \n",
    "* Best practice is to do a train/test split to validate the model on unseen data. However, we I tried it before, it didn't perform very well.\n",
    "* Also, I'd usually rather do GridSearch to see best hyper parameters for the model, but I gave a poke at it before and haven't seen extraordinary better results, so I decided to keep it simple."
   ]
  },
  {
   "cell_type": "code",
   "execution_count": 21,
   "metadata": {
    "execution": {
     "iopub.execute_input": "2021-01-27T18:13:17.927193Z",
     "iopub.status.busy": "2021-01-27T18:13:17.926359Z",
     "iopub.status.idle": "2021-01-27T18:13:17.953370Z",
     "shell.execute_reply": "2021-01-27T18:13:17.952632Z"
    },
    "papermill": {
     "duration": 0.077416,
     "end_time": "2021-01-27T18:13:17.953516",
     "exception": false,
     "start_time": "2021-01-27T18:13:17.876100",
     "status": "completed"
    },
    "tags": []
   },
   "outputs": [
    {
     "data": {
      "text/plain": [
       "77.73"
      ]
     },
     "execution_count": 21,
     "metadata": {},
     "output_type": "execute_result"
    }
   ],
   "source": [
    "# Logistic Regression\n",
    "\n",
    "logreg = LogisticRegression()\n",
    "logreg.fit(X_train, Y_train)\n",
    "acc_log = round(logreg.score(X_train, Y_train) * 100, 2)\n",
    "acc_log"
   ]
  },
  {
   "cell_type": "code",
   "execution_count": 22,
   "metadata": {
    "execution": {
     "iopub.execute_input": "2021-01-27T18:13:18.049328Z",
     "iopub.status.busy": "2021-01-27T18:13:18.048170Z",
     "iopub.status.idle": "2021-01-27T18:13:18.096460Z",
     "shell.execute_reply": "2021-01-27T18:13:18.097156Z"
    },
    "papermill": {
     "duration": 0.100277,
     "end_time": "2021-01-27T18:13:18.097304",
     "exception": false,
     "start_time": "2021-01-27T18:13:17.997027",
     "status": "completed"
    },
    "tags": []
   },
   "outputs": [
    {
     "data": {
      "text/plain": [
       "78.63"
      ]
     },
     "execution_count": 22,
     "metadata": {},
     "output_type": "execute_result"
    }
   ],
   "source": [
    "# Support Vector Machines\n",
    "\n",
    "svc = SVC()\n",
    "svc.fit(X_train, Y_train)\n",
    "acc_svc = round(svc.score(X_train, Y_train) * 100, 2)\n",
    "acc_svc"
   ]
  },
  {
   "cell_type": "code",
   "execution_count": 23,
   "metadata": {
    "execution": {
     "iopub.execute_input": "2021-01-27T18:13:18.197582Z",
     "iopub.status.busy": "2021-01-27T18:13:18.196869Z",
     "iopub.status.idle": "2021-01-27T18:13:18.245346Z",
     "shell.execute_reply": "2021-01-27T18:13:18.244783Z"
    },
    "papermill": {
     "duration": 0.10287,
     "end_time": "2021-01-27T18:13:18.245486",
     "exception": false,
     "start_time": "2021-01-27T18:13:18.142616",
     "status": "completed"
    },
    "tags": []
   },
   "outputs": [
    {
     "data": {
      "text/plain": [
       "85.26"
      ]
     },
     "execution_count": 23,
     "metadata": {},
     "output_type": "execute_result"
    }
   ],
   "source": [
    "#K nearest Neighbor\n",
    "\n",
    "knn = KNeighborsClassifier(n_neighbors = 3)\n",
    "knn.fit(X_train, Y_train)\n",
    "acc_knn = round(knn.score(X_train, Y_train) * 100, 2)\n",
    "acc_knn"
   ]
  },
  {
   "cell_type": "code",
   "execution_count": 24,
   "metadata": {
    "execution": {
     "iopub.execute_input": "2021-01-27T18:13:18.350487Z",
     "iopub.status.busy": "2021-01-27T18:13:18.349800Z",
     "iopub.status.idle": "2021-01-27T18:13:18.359662Z",
     "shell.execute_reply": "2021-01-27T18:13:18.359086Z"
    },
    "papermill": {
     "duration": 0.065851,
     "end_time": "2021-01-27T18:13:18.359787",
     "exception": false,
     "start_time": "2021-01-27T18:13:18.293936",
     "status": "completed"
    },
    "tags": []
   },
   "outputs": [
    {
     "data": {
      "text/plain": [
       "75.93"
      ]
     },
     "execution_count": 24,
     "metadata": {},
     "output_type": "execute_result"
    }
   ],
   "source": [
    "# Gaussian Naive Bayes\n",
    "\n",
    "gaussian = GaussianNB()\n",
    "gaussian.fit(X_train, Y_train)\n",
    "acc_gaussian = round(gaussian.score(X_train, Y_train) * 100, 2)\n",
    "acc_gaussian"
   ]
  },
  {
   "cell_type": "code",
   "execution_count": 25,
   "metadata": {
    "execution": {
     "iopub.execute_input": "2021-01-27T18:13:18.459900Z",
     "iopub.status.busy": "2021-01-27T18:13:18.458042Z",
     "iopub.status.idle": "2021-01-27T18:13:18.469640Z",
     "shell.execute_reply": "2021-01-27T18:13:18.468953Z"
    },
    "papermill": {
     "duration": 0.065434,
     "end_time": "2021-01-27T18:13:18.469755",
     "exception": false,
     "start_time": "2021-01-27T18:13:18.404321",
     "status": "completed"
    },
    "tags": []
   },
   "outputs": [
    {
     "data": {
      "text/plain": [
       "86.95"
      ]
     },
     "execution_count": 25,
     "metadata": {},
     "output_type": "execute_result"
    }
   ],
   "source": [
    "# Decision Tree\n",
    "\n",
    "decision_tree = DecisionTreeClassifier()\n",
    "decision_tree.fit(X_train, Y_train)\n",
    "acc_decision_tree = round(decision_tree.score(X_train, Y_train) * 100, 2)\n",
    "acc_decision_tree"
   ]
  },
  {
   "cell_type": "markdown",
   "metadata": {
    "papermill": {
     "duration": 0.044579,
     "end_time": "2021-01-27T18:13:18.560363",
     "exception": false,
     "start_time": "2021-01-27T18:13:18.515784",
     "status": "completed"
    },
    "tags": []
   },
   "source": [
    "# Ready for Submission\n",
    "\n",
    "It seems the winner is Decision Tree, let's set up the submission file and see how it performs on the test set."
   ]
  },
  {
   "cell_type": "code",
   "execution_count": 26,
   "metadata": {
    "execution": {
     "iopub.execute_input": "2021-01-27T18:13:18.659418Z",
     "iopub.status.busy": "2021-01-27T18:13:18.658639Z",
     "iopub.status.idle": "2021-01-27T18:13:19.082937Z",
     "shell.execute_reply": "2021-01-27T18:13:19.082295Z"
    },
    "papermill": {
     "duration": 0.477898,
     "end_time": "2021-01-27T18:13:19.083078",
     "exception": false,
     "start_time": "2021-01-27T18:13:18.605180",
     "status": "completed"
    },
    "tags": []
   },
   "outputs": [],
   "source": [
    "Y_pred = decision_tree.predict(X_test)\n",
    "\n",
    "submission = pd.DataFrame({\n",
    "        \"PassengerId\": test_data[\"PassengerId\"],\n",
    "        \"Survived\": Y_pred\n",
    "    })\n",
    "submission.to_csv('./submission.csv', index=False) #This file output is what is going to be submitted"
   ]
  },
  {
   "cell_type": "code",
   "execution_count": null,
   "metadata": {
    "papermill": {
     "duration": 0.045083,
     "end_time": "2021-01-27T18:13:19.173376",
     "exception": false,
     "start_time": "2021-01-27T18:13:19.128293",
     "status": "completed"
    },
    "tags": []
   },
   "outputs": [],
   "source": []
  }
 ],
 "metadata": {
  "kernelspec": {
   "display_name": "Python 3",
   "language": "python",
   "name": "python3"
  },
  "language_info": {
   "codemirror_mode": {
    "name": "ipython",
    "version": 3
   },
   "file_extension": ".py",
   "mimetype": "text/x-python",
   "name": "python",
   "nbconvert_exporter": "python",
   "pygments_lexer": "ipython3",
   "version": "3.7.6"
  },
  "papermill": {
   "duration": 17.850493,
   "end_time": "2021-01-27T18:13:19.325714",
   "environment_variables": {},
   "exception": null,
   "input_path": "__notebook__.ipynb",
   "output_path": "__notebook__.ipynb",
   "parameters": {},
   "start_time": "2021-01-27T18:13:01.475221",
   "version": "2.1.0"
  }
 },
 "nbformat": 4,
 "nbformat_minor": 4
}
